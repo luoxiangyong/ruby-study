{
 "cells": [
  {
   "cell_type": "markdown",
   "metadata": {},
   "source": [
    "第六章的代码测试"
   ]
  },
  {
   "cell_type": "markdown",
   "metadata": {},
   "source": [
    "###　6.1.1 可变长参数列表"
   ]
  },
  {
   "cell_type": "code",
   "execution_count": 2,
   "metadata": {},
   "outputs": [
    {
     "name": "stdout",
     "output_type": "stream",
     "text": [
      "Got one and \n",
      "Got one and two\n",
      "Got one and two, three\n"
     ]
    }
   ],
   "source": [
    "def varargs(arg1, *rest)\n",
    "  puts \"Got #{arg1} and #{rest.join(', ')}\"\n",
    "end\n",
    "\n",
    "varargs(\"one\")\n",
    "varargs(\"one\",\"two\")\n",
    "varargs(\"one\",\"two\",\"three\")"
   ]
  },
  {
   "cell_type": "markdown",
   "metadata": {},
   "source": [
    "###　6.1.２ 方法和Block"
   ]
  },
  {
   "cell_type": "code",
   "execution_count": null,
   "metadata": {
    "collapsed": true
   },
   "outputs": [],
   "source": [
    "def take_block(p1)\n",
    "  if block_given?\n",
    "    yield(p1)\n",
    "  else\n",
    "    p1\n",
    "  end\n",
    "end\n",
    "\n",
    "take_block('no block')\n",
    "take_block('no block') {|p| p.sub(/no /,\"\")}"
   ]
  }
 ],
 "metadata": {
  "kernelspec": {
   "display_name": "Ruby 2.3.1",
   "language": "ruby",
   "name": "ruby"
  },
  "language_info": {
   "file_extension": ".rb",
   "mimetype": "application/x-ruby",
   "name": "ruby",
   "version": "2.3.1"
  }
 },
 "nbformat": 4,
 "nbformat_minor": 2
}
