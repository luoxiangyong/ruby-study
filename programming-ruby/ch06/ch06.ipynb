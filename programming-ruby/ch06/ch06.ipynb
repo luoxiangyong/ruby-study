{
 "cells": [
  {
   "cell_type": "markdown",
   "metadata": {},
   "source": [
    "# 第六章的代码测试"
   ]
  },
  {
   "cell_type": "markdown",
   "metadata": {},
   "source": [
    "## 6.1 定义一个方法"
   ]
  },
  {
   "cell_type": "markdown",
   "metadata": {},
   "source": [
    "###  6.1.1 可变长参数列表"
   ]
  },
  {
   "cell_type": "code",
   "execution_count": 2,
   "metadata": {},
   "outputs": [
    {
     "name": "stdout",
     "output_type": "stream",
     "text": [
      "Got one and \n",
      "Got one and two\n",
      "Got one and two, three\n"
     ]
    }
   ],
   "source": [
    "def varargs(arg1, *rest)\n",
    "  puts \"Got #{arg1} and #{rest.join(', ')}\"\n",
    "end\n",
    "\n",
    "varargs(\"one\")\n",
    "varargs(\"one\",\"two\")\n",
    "varargs(\"one\",\"two\",\"three\")"
   ]
  },
  {
   "cell_type": "markdown",
   "metadata": {},
   "source": [
    "### 6.1.２ 方法和Block"
   ]
  },
  {
   "cell_type": "code",
   "execution_count": 14,
   "metadata": {},
   "outputs": [
    {
     "name": "stdout",
     "output_type": "stream",
     "text": [
      "no block\n",
      "block\n",
      "Sales tax on 100  = 7.5\n",
      "Sales tax on 250  = 18.75\n"
     ]
    }
   ],
   "source": [
    "def take_block(p1)\n",
    "  if block_given?\n",
    "    yield(p1)\n",
    "  else\n",
    "    p1\n",
    "  end\n",
    "end\n",
    "\n",
    "puts take_block('no block')\n",
    "puts take_block('no block') {|p| p.sub(/no /,\"\")}\n",
    "\n",
    "class TaxCalculator\n",
    "  def initialize(name,&block)\n",
    "    @name,@block = name, block\n",
    "  end\n",
    "  \n",
    "  def get_tax(amount)\n",
    "    puts \"#@name on #{amount}  = #{@block.call(amount)}\"\n",
    "  end   \n",
    "end\n",
    "\n",
    "tc = TaxCalculator.new(\"Sales tax\") { |amt| amt * 0.075 }\n",
    "\n",
    "tc.get_tax(100)\n",
    "tc.get_tax(250)"
   ]
  },
  {
   "cell_type": "markdown",
   "metadata": {},
   "source": [
    "## 6.2 调用方法"
   ]
  },
  {
   "cell_type": "code",
   "execution_count": 21,
   "metadata": {},
   "outputs": [
    {
     "name": "stdout",
     "output_type": "stream",
     "text": [
      "Object\n",
      "false\n",
      "false\n",
      "47111458403100\n",
      "47111458403100\n"
     ]
    }
   ],
   "source": [
    "puts self.class\n",
    "puts self.frozen?\n",
    "puts frozen?\n",
    "puts self.object_id\n",
    "puts object_id"
   ]
  },
  {
   "cell_type": "markdown",
   "metadata": {},
   "source": [
    "### 6.2.1 方法返回值"
   ]
  },
  {
   "cell_type": "code",
   "execution_count": 22,
   "metadata": {},
   "outputs": [
    {
     "name": "stdout",
     "output_type": "stream",
     "text": [
      "one\n",
      "positive\n",
      "zero\n"
     ]
    }
   ],
   "source": [
    "def meth_one\n",
    "  puts \"one\"\n",
    "end\n",
    "\n",
    "meth_one\n",
    "\n",
    "def meth_two(arg)\n",
    "  case \n",
    "  when arg > 0\n",
    "      puts \"positive\"\n",
    "  when arg < 0\n",
    "      puts \"negative\"\n",
    "  else\n",
    "    puts \"zero\"\n",
    "  end\n",
    "end\n",
    "\n",
    "meth_two(23)\n",
    "meth_two(0)"
   ]
  }
 ],
 "metadata": {
  "kernelspec": {
   "display_name": "Ruby 2.3.1",
   "language": "ruby",
   "name": "ruby"
  },
  "language_info": {
   "file_extension": ".rb",
   "mimetype": "application/x-ruby",
   "name": "ruby",
   "version": "2.3.1"
  }
 },
 "nbformat": 4,
 "nbformat_minor": 2
}
