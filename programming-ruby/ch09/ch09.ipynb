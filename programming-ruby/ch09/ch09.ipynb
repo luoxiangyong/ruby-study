{
 "cells": [
  {
   "cell_type": "markdown",
   "metadata": {},
   "source": [
    "# 第九章"
   ]
  },
  {
   "cell_type": "markdown",
   "metadata": {},
   "source": [
    "### 9.4.1 Mixin中的实例变量"
   ]
  },
  {
   "cell_type": "code",
   "execution_count": 11,
   "metadata": {},
   "outputs": [
    {
     "data": {
      "text/plain": [
       ":add_viewer"
      ]
     },
     "execution_count": 11,
     "metadata": {},
     "output_type": "execute_result"
    }
   ],
   "source": [
    "load 'observable.rb'\n",
    "\n",
    "class TelescopeScheduler\n",
    "  include Observable\n",
    "  \n",
    "  def add_viewer(v)\n",
    "    @observer_list << v\n",
    "  end\n",
    "  \n",
    "end"
   ]
  },
  {
   "cell_type": "code",
   "execution_count": 15,
   "metadata": {
    "scrolled": true
   },
   "outputs": [
    {
     "name": "stdout",
     "output_type": "stream",
     "text": [
      "[\"/var/lib/gems/2.3.0/gems/iruby-0.3/lib\", \"/var/lib/gems/2.3.0/gems/bond-0.5.1/lib\", \"/var/lib/gems/2.3.0/extensions/x86_64-linux/2.3.0/bond-0.5.1\", \"/var/lib/gems/2.3.0/gems/multi_json-1.12.1/lib\", \"/var/lib/gems/2.3.0/gems/mimemagic-0.3.2/lib\", \"/var/lib/gems/2.3.0/gems/data_uri-0.1.0/lib\", \"/var/lib/gems/2.3.0/gems/iruby-0.3/lib\", \"/var/lib/gems/2.3.0/gems/ffi-1.9.18/lib\", \"/var/lib/gems/2.3.0/extensions/x86_64-linux/2.3.0/ffi-1.9.18\", \"/var/lib/gems/2.3.0/gems/czmq-ffi-gen-0.13.0/lib\", \"/var/lib/gems/2.3.0/gems/cztop-0.11.4/lib\", \"/var/lib/gems/2.3.0/gems/ffi-rzmq-core-1.0.6/lib\", \"/var/lib/gems/2.3.0/gems/ffi-rzmq-2.0.5/lib\", \"/usr/local/lib/site_ruby/2.3.0\", \"/usr/local/lib/x86_64-linux-gnu/site_ruby\", \"/usr/local/lib/site_ruby\", \"/usr/lib/ruby/vendor_ruby/2.3.0\", \"/usr/lib/x86_64-linux-gnu/ruby/vendor_ruby/2.3.0\", \"/usr/lib/ruby/vendor_ruby\", \"/usr/lib/ruby/2.3.0\", \"/usr/lib/x86_64-linux-gnu/ruby/2.3.0\"]\n",
      "[\"enumerator.so\", \"thread.rb\", \"rational.so\", \"complex.so\", \"/usr/lib/x86_64-linux-gnu/ruby/2.3.0/enc/encdb.so\", \"/usr/lib/x86_64-linux-gnu/ruby/2.3.0/enc/trans/transdb.so\", \"/usr/lib/ruby/2.3.0/unicode_normalize.rb\", \"/usr/lib/x86_64-linux-gnu/ruby/2.3.0/rbconfig.rb\", \"/usr/lib/ruby/2.3.0/rubygems/compatibility.rb\", \"/usr/lib/ruby/2.3.0/rubygems/defaults.rb\", \"/usr/lib/ruby/2.3.0/rubygems/deprecate.rb\", \"/usr/lib/ruby/2.3.0/rubygems/errors.rb\", \"/usr/lib/ruby/2.3.0/rubygems/version.rb\", \"/usr/lib/ruby/2.3.0/rubygems/requirement.rb\", \"/usr/lib/ruby/2.3.0/rubygems/platform.rb\", \"/usr/lib/ruby/2.3.0/rubygems/basic_specification.rb\", \"/usr/lib/ruby/2.3.0/rubygems/stub_specification.rb\", \"/usr/lib/ruby/2.3.0/rubygems/util/list.rb\", \"/usr/lib/x86_64-linux-gnu/ruby/2.3.0/stringio.so\", \"/usr/lib/ruby/2.3.0/rubygems/specification.rb\", \"/usr/lib/ruby/2.3.0/rubygems/exceptions.rb\", \"/usr/lib/ruby/vendor_ruby/rubygems/defaults/operating_system.rb\", \"/usr/lib/ruby/2.3.0/rubygems/core_ext/kernel_gem.rb\", \"/usr/lib/ruby/2.3.0/monitor.rb\", \"/usr/lib/ruby/2.3.0/rubygems/core_ext/kernel_require.rb\", \"/usr/lib/ruby/2.3.0/rubygems.rb\", \"/usr/lib/ruby/vendor_ruby/did_you_mean/version.rb\", \"/usr/lib/ruby/vendor_ruby/did_you_mean/core_ext/name_error.rb\", \"/usr/lib/ruby/vendor_ruby/did_you_mean/levenshtein.rb\", \"/usr/lib/ruby/vendor_ruby/did_you_mean/jaro_winkler.rb\", \"/usr/lib/ruby/vendor_ruby/did_you_mean/spell_checkable.rb\", \"/usr/lib/ruby/2.3.0/delegate.rb\", \"/usr/lib/ruby/vendor_ruby/did_you_mean/spell_checkers/name_error_checkers/class_name_checker.rb\", \"/usr/lib/ruby/vendor_ruby/did_you_mean/spell_checkers/name_error_checkers/variable_name_checker.rb\", \"/usr/lib/ruby/vendor_ruby/did_you_mean/spell_checkers/name_error_checkers.rb\", \"/usr/lib/ruby/vendor_ruby/did_you_mean/spell_checkers/method_name_checker.rb\", \"/usr/lib/ruby/vendor_ruby/did_you_mean/spell_checkers/null_checker.rb\", \"/usr/lib/ruby/vendor_ruby/did_you_mean/formatter.rb\", \"/usr/lib/ruby/vendor_ruby/did_you_mean.rb\", \"/usr/lib/ruby/2.3.0/rubygems/dependency.rb\", \"/usr/lib/ruby/2.3.0/rubygems/path_support.rb\", \"/usr/lib/x86_64-linux-gnu/ruby/2.3.0/etc.so\", \"/usr/lib/ruby/2.3.0/fileutils.rb\", \"/var/lib/gems/2.3.0/gems/multi_json-1.12.1/lib/multi_json/options.rb\", \"/var/lib/gems/2.3.0/gems/multi_json-1.12.1/lib/multi_json/version.rb\", \"/var/lib/gems/2.3.0/gems/multi_json-1.12.1/lib/multi_json/adapter_error.rb\", \"/var/lib/gems/2.3.0/gems/multi_json-1.12.1/lib/multi_json/parse_error.rb\", \"/var/lib/gems/2.3.0/gems/multi_json-1.12.1/lib/multi_json/options_cache.rb\", \"/var/lib/gems/2.3.0/gems/multi_json-1.12.1/lib/multi_json.rb\", \"/var/lib/gems/2.3.0/gems/iruby-0.3/lib/iruby/command.rb\", \"/usr/lib/ruby/2.3.0/logger.rb\", \"/var/lib/gems/2.3.0/gems/iruby-0.3/lib/iruby/logger.rb\", \"/var/lib/gems/2.3.0/gems/mimemagic-0.3.2/lib/mimemagic/tables.rb\", \"/var/lib/gems/2.3.0/gems/mimemagic-0.3.2/lib/mimemagic/version.rb\", \"/var/lib/gems/2.3.0/gems/mimemagic-0.3.2/lib/mimemagic.rb\", \"/usr/lib/x86_64-linux-gnu/ruby/2.3.0/digest.so\", \"/usr/lib/ruby/2.3.0/digest.rb\", \"/usr/lib/x86_64-linux-gnu/ruby/2.3.0/openssl.so\", \"/usr/lib/ruby/2.3.0/openssl/bn.rb\", \"/usr/lib/ruby/2.3.0/openssl/pkey.rb\", \"/usr/lib/ruby/2.3.0/openssl/cipher.rb\", \"/usr/lib/ruby/2.3.0/openssl/config.rb\", \"/usr/lib/ruby/2.3.0/openssl/digest.rb\", \"/usr/lib/ruby/2.3.0/openssl/x509.rb\", \"/usr/lib/ruby/2.3.0/openssl/buffering.rb\", \"/usr/lib/x86_64-linux-gnu/ruby/2.3.0/io/nonblock.so\", \"/usr/lib/ruby/2.3.0/openssl/ssl.rb\", \"/usr/lib/ruby/2.3.0/openssl.rb\", \"/usr/lib/ruby/2.3.0/securerandom.rb\", \"/usr/lib/ruby/2.3.0/tmpdir.rb\", \"/usr/lib/ruby/2.3.0/tempfile.rb\", \"/usr/lib/ruby/2.3.0/set.rb\", \"/var/lib/gems/2.3.0/gems/iruby-0.3/lib/iruby/version.rb\", \"/var/lib/gems/2.3.0/gems/iruby-0.3/lib/iruby/kernel.rb\", \"/var/lib/gems/2.3.0/gems/iruby-0.3/lib/iruby/backend.rb\", \"/var/lib/gems/2.3.0/gems/iruby-0.3/lib/iruby/ostream.rb\", \"/var/lib/gems/2.3.0/gems/iruby-0.3/lib/iruby/input.rb\", \"/var/lib/gems/2.3.0/gems/iruby-0.3/lib/iruby/formatter.rb\", \"/var/lib/gems/2.3.0/gems/iruby-0.3/lib/iruby/utils.rb\", \"/var/lib/gems/2.3.0/gems/iruby-0.3/lib/iruby/display.rb\", \"/var/lib/gems/2.3.0/gems/iruby-0.3/lib/iruby/comm.rb\", \"/var/lib/gems/2.3.0/gems/iruby-0.3/lib/iruby/session/mixin.rb\", \"/var/lib/gems/2.3.0/gems/czmq-ffi-gen-0.13.0/lib/czmq-ffi-gen/vendor.rb\", \"/var/lib/gems/2.3.0/gems/ffi-1.9.18/lib/ffi_c.so\", \"/var/lib/gems/2.3.0/gems/ffi-1.9.18/lib/ffi/platform.rb\", \"/var/lib/gems/2.3.0/gems/ffi-1.9.18/lib/ffi/types.rb\", \"/var/lib/gems/2.3.0/gems/ffi-1.9.18/lib/ffi/library.rb\", \"/var/lib/gems/2.3.0/gems/ffi-1.9.18/lib/ffi/errno.rb\", \"/var/lib/gems/2.3.0/gems/ffi-1.9.18/lib/ffi/pointer.rb\", \"/var/lib/gems/2.3.0/gems/ffi-1.9.18/lib/ffi/memorypointer.rb\", \"/var/lib/gems/2.3.0/gems/ffi-1.9.18/lib/ffi/struct_layout_builder.rb\", \"/var/lib/gems/2.3.0/gems/ffi-1.9.18/lib/ffi/struct.rb\", \"/var/lib/gems/2.3.0/gems/ffi-1.9.18/lib/ffi/union.rb\", \"/var/lib/gems/2.3.0/gems/ffi-1.9.18/lib/ffi/managedstruct.rb\", \"/var/lib/gems/2.3.0/gems/ffi-1.9.18/lib/ffi/callback.rb\", \"/var/lib/gems/2.3.0/gems/ffi-1.9.18/lib/ffi/io.rb\", \"/var/lib/gems/2.3.0/gems/ffi-1.9.18/lib/ffi/autopointer.rb\", \"/var/lib/gems/2.3.0/gems/ffi-1.9.18/lib/ffi/variadic.rb\", \"/var/lib/gems/2.3.0/gems/ffi-1.9.18/lib/ffi/enum.rb\", \"/var/lib/gems/2.3.0/gems/ffi-1.9.18/lib/ffi/ffi.rb\", \"/var/lib/gems/2.3.0/gems/ffi-1.9.18/lib/ffi.rb\", \"/var/lib/gems/2.3.0/gems/czmq-ffi-gen-0.13.0/lib/czmq-ffi-gen/czmq/ffi/version.rb\", \"/var/lib/gems/2.3.0/gems/czmq-ffi-gen-0.13.0/lib/czmq-ffi-gen/czmq/ffi/zactor.rb\", \"/var/lib/gems/2.3.0/gems/czmq-ffi-gen-0.13.0/lib/czmq-ffi-gen/czmq/ffi/zarmour.rb\", \"/var/lib/gems/2.3.0/gems/czmq-ffi-gen-0.13.0/lib/czmq-ffi-gen/czmq/ffi/zcert.rb\", \"/var/lib/gems/2.3.0/gems/czmq-ffi-gen-0.13.0/lib/czmq-ffi-gen/czmq/ffi/zcertstore.rb\", \"/var/lib/gems/2.3.0/gems/czmq-ffi-gen-0.13.0/lib/czmq-ffi-gen/czmq/ffi/zchunk.rb\", \"/var/lib/gems/2.3.0/gems/czmq-ffi-gen-0.13.0/lib/czmq-ffi-gen/czmq/ffi/zclock.rb\", \"/var/lib/gems/2.3.0/gems/czmq-ffi-gen-0.13.0/lib/czmq-ffi-gen/czmq/ffi/zconfig.rb\", \"/var/lib/gems/2.3.0/gems/czmq-ffi-gen-0.13.0/lib/czmq-ffi-gen/czmq/ffi/zdigest.rb\", \"/var/lib/gems/2.3.0/gems/czmq-ffi-gen-0.13.0/lib/czmq-ffi-gen/czmq/ffi/zdir.rb\", \"/var/lib/gems/2.3.0/gems/czmq-ffi-gen-0.13.0/lib/czmq-ffi-gen/czmq/ffi/zdir_patch.rb\", \"/var/lib/gems/2.3.0/gems/czmq-ffi-gen-0.13.0/lib/czmq-ffi-gen/czmq/ffi/zfile.rb\", \"/var/lib/gems/2.3.0/gems/ffi-rzmq-core-1.0.6/lib/ffi-rzmq-core/libc.rb\", \"/usr/lib/ruby/2.3.0/open3.rb\", \"/var/lib/gems/2.3.0/gems/ffi-rzmq-core-1.0.6/lib/ffi-rzmq-core/libzmq.rb\", \"/var/lib/gems/2.3.0/gems/ffi-rzmq-core-1.0.6/lib/ffi-rzmq-core/utilities.rb\", \"/var/lib/gems/2.3.0/gems/ffi-rzmq-core-1.0.6/lib/ffi-rzmq-core/structures.rb\", \"/var/lib/gems/2.3.0/gems/ffi-rzmq-core-1.0.6/lib/ffi-rzmq-core/constants.rb\", \"/var/lib/gems/2.3.0/gems/ffi-rzmq-core-1.0.6/lib/ffi-rzmq-core/libzmq4.rb\", \"/var/lib/gems/2.3.0/gems/ffi-rzmq-core-1.0.6/lib/ffi-rzmq-core.rb\", \"/var/lib/gems/2.3.0/gems/ffi-rzmq-2.0.5/lib/io_extensions.rb\", \"/var/lib/gems/2.3.0/gems/ffi-rzmq-2.0.5/lib/ffi-rzmq/util.rb\", \"/var/lib/gems/2.3.0/gems/ffi-rzmq-2.0.5/lib/ffi-rzmq/exceptions.rb\", \"/var/lib/gems/2.3.0/gems/ffi-rzmq-2.0.5/lib/ffi-rzmq/context.rb\", \"/var/lib/gems/2.3.0/gems/ffi-rzmq-2.0.5/lib/ffi-rzmq/message.rb\", \"/var/lib/gems/2.3.0/gems/ffi-rzmq-2.0.5/lib/ffi-rzmq/socket.rb\", \"/usr/lib/ruby/2.3.0/forwardable.rb\", \"/usr/lib/ruby/2.3.0/ostruct.rb\", \"/var/lib/gems/2.3.0/gems/ffi-rzmq-2.0.5/lib/ffi-rzmq/poll_items.rb\", \"/var/lib/gems/2.3.0/gems/ffi-rzmq-2.0.5/lib/ffi-rzmq/poll_item.rb\", \"/var/lib/gems/2.3.0/gems/ffi-rzmq-2.0.5/lib/ffi-rzmq/poll.rb\", \"/var/lib/gems/2.3.0/gems/ffi-rzmq-2.0.5/lib/ffi-rzmq/device.rb\", \"/var/lib/gems/2.3.0/gems/ffi-rzmq-2.0.5/lib/ffi-rzmq/version.rb\", \"/var/lib/gems/2.3.0/gems/ffi-rzmq-2.0.5/lib/ffi-rzmq.rb\", \"/var/lib/gems/2.3.0/gems/iruby-0.3/lib/iruby/session/ffi_rzmq.rb\", \"/var/lib/gems/2.3.0/gems/iruby-0.3/lib/iruby.rb\", \"/usr/lib/ruby/2.3.0/json/version.rb\", \"/usr/lib/ruby/2.3.0/json/generic_object.rb\", \"/usr/lib/ruby/2.3.0/json/common.rb\", \"/usr/lib/x86_64-linux-gnu/ruby/2.3.0/enc/utf_16be.so\", \"/usr/lib/x86_64-linux-gnu/ruby/2.3.0/enc/utf_16le.so\", \"/usr/lib/x86_64-linux-gnu/ruby/2.3.0/enc/utf_32be.so\", \"/usr/lib/x86_64-linux-gnu/ruby/2.3.0/enc/utf_32le.so\", \"/usr/lib/x86_64-linux-gnu/ruby/2.3.0/json/ext/parser.so\", \"/usr/lib/x86_64-linux-gnu/ruby/2.3.0/json/ext/generator.so\", \"/usr/lib/ruby/2.3.0/json/ext.rb\", \"/usr/lib/ruby/2.3.0/singleton.rb\", \"/var/lib/gems/2.3.0/gems/multi_json-1.12.1/lib/multi_json/adapter.rb\", \"/var/lib/gems/2.3.0/gems/multi_json-1.12.1/lib/multi_json/adapters/json_common.rb\", \"/var/lib/gems/2.3.0/gems/multi_json-1.12.1/lib/multi_json/adapters/json_gem.rb\", \"/var/lib/gems/2.3.0/gems/bond-0.5.1/lib/bond/m.rb\", \"/var/lib/gems/2.3.0/gems/bond-0.5.1/lib/bond/version.rb\", \"/var/lib/gems/2.3.0/gems/bond-0.5.1/lib/bond/readline.rb\", \"/var/lib/gems/2.3.0/gems/bond-0.5.1/lib/bond/readlines/rawline.rb\", \"/var/lib/gems/2.3.0/gems/bond-0.5.1/lib/bond/readlines/ruby.rb\", \"/var/lib/gems/2.3.0/gems/bond-0.5.1/lib/bond/readlines/jruby.rb\", \"/var/lib/gems/2.3.0/gems/bond-0.5.1/lib/bond/agent.rb\", \"/var/lib/gems/2.3.0/gems/bond-0.5.1/lib/bond/search.rb\", \"/var/lib/gems/2.3.0/gems/bond-0.5.1/lib/bond/input.rb\", \"/var/lib/gems/2.3.0/gems/bond-0.5.1/lib/bond/rc.rb\", \"/var/lib/gems/2.3.0/gems/bond-0.5.1/lib/bond/mission.rb\", \"/var/lib/gems/2.3.0/gems/bond-0.5.1/lib/bond/missions/default_mission.rb\", \"/var/lib/gems/2.3.0/gems/bond-0.5.1/lib/bond/missions/method_mission.rb\", \"/var/lib/gems/2.3.0/gems/bond-0.5.1/lib/bond/missions/object_mission.rb\", \"/var/lib/gems/2.3.0/gems/bond-0.5.1/lib/bond/missions/anywhere_mission.rb\", \"/var/lib/gems/2.3.0/gems/bond-0.5.1/lib/bond/missions/operator_method_mission.rb\", \"/var/lib/gems/2.3.0/gems/bond-0.5.1/lib/bond.rb\", \"/usr/lib/x86_64-linux-gnu/ruby/2.3.0/readline.so\"]"
     ]
    }
   ],
   "source": [
    "print $:.to_s + \"\\n\"\n",
    "print $\""
   ]
  },
  {
   "cell_type": "code",
   "execution_count": null,
   "metadata": {
    "collapsed": true
   },
   "outputs": [],
   "source": []
  }
 ],
 "metadata": {
  "kernelspec": {
   "display_name": "Ruby 2.3.1",
   "language": "ruby",
   "name": "ruby"
  },
  "language_info": {
   "file_extension": ".rb",
   "mimetype": "application/x-ruby",
   "name": "ruby",
   "version": "2.3.1"
  }
 },
 "nbformat": 4,
 "nbformat_minor": 2
}
